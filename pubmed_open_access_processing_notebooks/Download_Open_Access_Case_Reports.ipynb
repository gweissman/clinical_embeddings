{
 "cells": [
  {
   "cell_type": "markdown",
   "metadata": {},
   "source": [
    "## Downloading the PubMed Open Access Case Reports for corpus building"
   ]
  },
  {
   "cell_type": "code",
   "execution_count": null,
   "metadata": {},
   "outputs": [],
   "source": [
    "import pandas as pd\n",
    "import os\n",
    "import urllib, sys\n",
    "from time import sleep\n",
    "# for downloading files (works with ftp too)\n",
    "import wget\n",
    "# import the Entrez (pubmed API) from Biopython module\n",
    "# see biopython reference here: http://biopython.org/DIST/docs/tutorial/Tutorial.html\n",
    "from Bio import Entrez"
   ]
  },
  {
   "cell_type": "markdown",
   "metadata": {},
   "source": [
    "## make original query for pubmed case reports"
   ]
  },
  {
   "cell_type": "code",
   "execution_count": null,
   "metadata": {},
   "outputs": [],
   "source": [
    "case_report_pmids = []"
   ]
  },
  {
   "cell_type": "code",
   "execution_count": null,
   "metadata": {
    "scrolled": true
   },
   "outputs": [],
   "source": [
    "##### set up my email in case they email me an alert\n",
    "Entrez.email = \"\"\n",
    "# build search in pubmed\n",
    "# get case reports from past ten years (2007-2017)\n",
    "# should return about 208761 PMIDs (more seem to be added now and again)\n",
    "query = Entrez.esearch(db=\"pubmed\", retmax = 5000000, retstart = 5000001,\n",
    "                     term='\"2007/01/01\"[PDat] : \"2017/12/31\"[PDat] AND English[lang] AND \"humans\"[MeSH Terms]')\n",
    "result = Entrez.read(query)\n",
    "case_report_pmids = case_report_pmids + list(set(result['IdList']))\n",
    "print('Retrieved PMIDs for',len(case_report_pmids),'case reports')"
   ]
  },
  {
   "cell_type": "markdown",
   "metadata": {},
   "source": [
    "## download references for licensing "
   ]
  },
  {
   "cell_type": "code",
   "execution_count": null,
   "metadata": {},
   "outputs": [],
   "source": [
    "# now get the index files of all papers in the open access subset\n",
    "# just run this once because the files are big\n",
    "# for research purposes we can use both the regular and commercial use datasets\n",
    "# see details of the open access dataset here: https://www.ncbi.nlm.nih.gov/pmc/tools/openftlist/\n",
    "url_oa_flist = 'ftp://ftp.ncbi.nlm.nih.gov/pub/pmc/oa_file_list.csv'\n",
    "url_oa_cu_flist = 'ftp://ftp.ncbi.nlm.nih.gov/pub/pmc/oa_comm_use_file_list.csv'\n",
    "\n",
    "# download the file indices\n",
    "# should just have to do this part once\n",
    "print('Downloading the open acess file list...')\n",
    "oa_file_dl = wget.download(url_oa_flist)\n",
    "print('Downloading the commercial-use open acess file list...')\n",
    "oa_cu_file_dl = wget.download(url_oa_cu_flist)"
   ]
  },
  {
   "cell_type": "markdown",
   "metadata": {},
   "source": [
    "## load reference files"
   ]
  },
  {
   "cell_type": "code",
   "execution_count": null,
   "metadata": {},
   "outputs": [],
   "source": [
    "# load files\n",
    "df_oa_flist = pd.read_csv('reference_files/oa_file_list.csv', dtype={'PMID': object})\n",
    "df_oa_cu_flist = pd.read_csv('reference_files/oa_comm_use_file_list.csv', dtype={'PMID': object})"
   ]
  },
  {
   "cell_type": "code",
   "execution_count": null,
   "metadata": {},
   "outputs": [],
   "source": [
    "# merge the open access and commercial use file lists -- both are fair game for this research project\n",
    "pmc_oa_flist = pd.concat([df_oa_flist, df_oa_cu_flist])"
   ]
  },
  {
   "cell_type": "markdown",
   "metadata": {},
   "source": [
    "## filter all PMIDs by ones that allow licensing"
   ]
  },
  {
   "cell_type": "code",
   "execution_count": null,
   "metadata": {},
   "outputs": [],
   "source": [
    "# filter by PMIDs in the original Case Report Query\n",
    "df_case_reports = pd.DataFrame({'PMID': case_report_pmids})\n",
    "df_file_loc_case_reports = pd.merge(df_case_reports, pmc_oa_flist, how = 'inner', on = 'PMID')\n",
    "list_accession_ids_case_reports = list(set(df_file_loc_case_reports['Accession ID']))\n",
    "list_pmc_id_case_reports = list(map(lambda x: x[3:], list_accession_ids_case_reports))\n",
    "print('Found',len(list_pmc_id_case_reports))"
   ]
  },
  {
   "cell_type": "code",
   "execution_count": null,
   "metadata": {},
   "outputs": [],
   "source": [
    "import pickle\n",
    "pickle.dump(list_accession_ids_case_reports, open(\"OA_ALL_pmc_ids.pkl\", \"wb\" ))"
   ]
  },
  {
   "cell_type": "markdown",
   "metadata": {},
   "source": [
    "## extract the case reports as xml files"
   ]
  },
  {
   "cell_type": "code",
   "execution_count": null,
   "metadata": {},
   "outputs": [],
   "source": [
    "# make sure we have the right directory to put them in\n",
    "file_dir = 'pmc_files_full/'\n",
    "if not os.path.isdir(file_dir):\n",
    "    os.makedirs(file_dir)\n",
    "# now get the files\n",
    "my_ncbi_api_key = '431919d2e10a3757c5f70f8f5376a85f7308'\n",
    "base_efetch_url = 'https://eutils.ncbi.nlm.nih.gov/entrez/eutils/efetch.fcgi?db=pmc&id=' # gets the full text xml\n",
    "print('Now downloading',len(list_pmc_id_case_reports),'manuscripts from PMC Open Access Dataset')\n",
    "for i, pmc_id in enumerate(list_pmc_id_case_reports):\n",
    "    if ((i+1) % 100 == 0):\n",
    "        sys.stdout.write('Completed: %d of %d report downloads \\r' % (i+1, len(list_pmc_id_case_reports)))\n",
    "        #sys.stdout.flush()\n",
    "    sleep(2) # be respectful of NIH resources\n",
    "    try:\n",
    "        wget.download(base_efetch_url + pmc_id + '&api_key=' + my_ncbi_api_key, file_dir + pmc_id + '.xml')\n",
    "    except urllib.error.HTTPError as e:\n",
    "        print(\"Error: \", e, pmc_id)"
   ]
  }
 ],
 "metadata": {
  "kernelspec": {
   "display_name": "Python 3",
   "language": "python",
   "name": "python3"
  },
  "language_info": {
   "codemirror_mode": {
    "name": "ipython",
    "version": 3
   },
   "file_extension": ".py",
   "mimetype": "text/x-python",
   "name": "python",
   "nbconvert_exporter": "python",
   "pygments_lexer": "ipython3",
   "version": "3.6.6"
  }
 },
 "nbformat": 4,
 "nbformat_minor": 2
}
